{
  "nbformat": 4,
  "nbformat_minor": 0,
  "metadata": {
    "kernelspec": {
      "display_name": "Python 3",
      "language": "python",
      "name": "python3"
    },
    "language_info": {
      "codemirror_mode": {
        "name": "ipython",
        "version": 3
      },
      "file_extension": ".py",
      "mimetype": "text/x-python",
      "name": "python",
      "nbconvert_exporter": "python",
      "pygments_lexer": "ipython3",
      "version": "3.7.6"
    },
    "pycharm": {
      "stem_cell": {
        "cell_type": "raw",
        "metadata": {
          "collapsed": false
        },
        "source": []
      }
    },
    "colab": {
      "name": "01_Intro_Transformers_Tokenizer_TFModel.ipynb",
      "provenance": [],
      "collapsed_sections": []
    },
    "accelerator": "GPU",
    "widgets": {
      "application/vnd.jupyter.widget-state+json": {
        "551bad26e0a04d83977cdd62a78733bb": {
          "model_module": "@jupyter-widgets/controls",
          "model_name": "HBoxModel",
          "state": {
            "_view_name": "HBoxView",
            "_dom_classes": [],
            "_model_name": "HBoxModel",
            "_view_module": "@jupyter-widgets/controls",
            "_model_module_version": "1.5.0",
            "_view_count": null,
            "_view_module_version": "1.5.0",
            "box_style": "",
            "layout": "IPY_MODEL_14b8c20a7b6843b9a27b0c744ce49210",
            "_model_module": "@jupyter-widgets/controls",
            "children": [
              "IPY_MODEL_1a3a68ece4b14d34930eea7aac540521",
              "IPY_MODEL_b0afa8fb2ea3479887b8ccc6957121a6"
            ]
          }
        },
        "14b8c20a7b6843b9a27b0c744ce49210": {
          "model_module": "@jupyter-widgets/base",
          "model_name": "LayoutModel",
          "state": {
            "_view_name": "LayoutView",
            "grid_template_rows": null,
            "right": null,
            "justify_content": null,
            "_view_module": "@jupyter-widgets/base",
            "overflow": null,
            "_model_module_version": "1.2.0",
            "_view_count": null,
            "flex_flow": null,
            "width": null,
            "min_width": null,
            "border": null,
            "align_items": null,
            "bottom": null,
            "_model_module": "@jupyter-widgets/base",
            "top": null,
            "grid_column": null,
            "overflow_y": null,
            "overflow_x": null,
            "grid_auto_flow": null,
            "grid_area": null,
            "grid_template_columns": null,
            "flex": null,
            "_model_name": "LayoutModel",
            "justify_items": null,
            "grid_row": null,
            "max_height": null,
            "align_content": null,
            "visibility": null,
            "align_self": null,
            "height": null,
            "min_height": null,
            "padding": null,
            "grid_auto_rows": null,
            "grid_gap": null,
            "max_width": null,
            "order": null,
            "_view_module_version": "1.2.0",
            "grid_template_areas": null,
            "object_position": null,
            "object_fit": null,
            "grid_auto_columns": null,
            "margin": null,
            "display": null,
            "left": null
          }
        },
        "1a3a68ece4b14d34930eea7aac540521": {
          "model_module": "@jupyter-widgets/controls",
          "model_name": "FloatProgressModel",
          "state": {
            "_view_name": "ProgressView",
            "style": "IPY_MODEL_98577b1ed63846c49d9463408eceed86",
            "_dom_classes": [],
            "description": "Downloading: 100%",
            "_model_name": "FloatProgressModel",
            "bar_style": "success",
            "max": 433,
            "_view_module": "@jupyter-widgets/controls",
            "_model_module_version": "1.5.0",
            "value": 433,
            "_view_count": null,
            "_view_module_version": "1.5.0",
            "orientation": "horizontal",
            "min": 0,
            "description_tooltip": null,
            "_model_module": "@jupyter-widgets/controls",
            "layout": "IPY_MODEL_9299f1e075e6488ea80b222cf0f58033"
          }
        },
        "b0afa8fb2ea3479887b8ccc6957121a6": {
          "model_module": "@jupyter-widgets/controls",
          "model_name": "HTMLModel",
          "state": {
            "_view_name": "HTMLView",
            "style": "IPY_MODEL_64ebd8c560474f32b1d15b65f7b9855d",
            "_dom_classes": [],
            "description": "",
            "_model_name": "HTMLModel",
            "placeholder": "​",
            "_view_module": "@jupyter-widgets/controls",
            "_model_module_version": "1.5.0",
            "value": " 433/433 [00:10&lt;00:00, 41.1B/s]",
            "_view_count": null,
            "_view_module_version": "1.5.0",
            "description_tooltip": null,
            "_model_module": "@jupyter-widgets/controls",
            "layout": "IPY_MODEL_281255ebe210448191fcb1f2c27efbc4"
          }
        },
        "98577b1ed63846c49d9463408eceed86": {
          "model_module": "@jupyter-widgets/controls",
          "model_name": "ProgressStyleModel",
          "state": {
            "_view_name": "StyleView",
            "_model_name": "ProgressStyleModel",
            "description_width": "initial",
            "_view_module": "@jupyter-widgets/base",
            "_model_module_version": "1.5.0",
            "_view_count": null,
            "_view_module_version": "1.2.0",
            "bar_color": null,
            "_model_module": "@jupyter-widgets/controls"
          }
        },
        "9299f1e075e6488ea80b222cf0f58033": {
          "model_module": "@jupyter-widgets/base",
          "model_name": "LayoutModel",
          "state": {
            "_view_name": "LayoutView",
            "grid_template_rows": null,
            "right": null,
            "justify_content": null,
            "_view_module": "@jupyter-widgets/base",
            "overflow": null,
            "_model_module_version": "1.2.0",
            "_view_count": null,
            "flex_flow": null,
            "width": null,
            "min_width": null,
            "border": null,
            "align_items": null,
            "bottom": null,
            "_model_module": "@jupyter-widgets/base",
            "top": null,
            "grid_column": null,
            "overflow_y": null,
            "overflow_x": null,
            "grid_auto_flow": null,
            "grid_area": null,
            "grid_template_columns": null,
            "flex": null,
            "_model_name": "LayoutModel",
            "justify_items": null,
            "grid_row": null,
            "max_height": null,
            "align_content": null,
            "visibility": null,
            "align_self": null,
            "height": null,
            "min_height": null,
            "padding": null,
            "grid_auto_rows": null,
            "grid_gap": null,
            "max_width": null,
            "order": null,
            "_view_module_version": "1.2.0",
            "grid_template_areas": null,
            "object_position": null,
            "object_fit": null,
            "grid_auto_columns": null,
            "margin": null,
            "display": null,
            "left": null
          }
        },
        "64ebd8c560474f32b1d15b65f7b9855d": {
          "model_module": "@jupyter-widgets/controls",
          "model_name": "DescriptionStyleModel",
          "state": {
            "_view_name": "StyleView",
            "_model_name": "DescriptionStyleModel",
            "description_width": "",
            "_view_module": "@jupyter-widgets/base",
            "_model_module_version": "1.5.0",
            "_view_count": null,
            "_view_module_version": "1.2.0",
            "_model_module": "@jupyter-widgets/controls"
          }
        },
        "281255ebe210448191fcb1f2c27efbc4": {
          "model_module": "@jupyter-widgets/base",
          "model_name": "LayoutModel",
          "state": {
            "_view_name": "LayoutView",
            "grid_template_rows": null,
            "right": null,
            "justify_content": null,
            "_view_module": "@jupyter-widgets/base",
            "overflow": null,
            "_model_module_version": "1.2.0",
            "_view_count": null,
            "flex_flow": null,
            "width": null,
            "min_width": null,
            "border": null,
            "align_items": null,
            "bottom": null,
            "_model_module": "@jupyter-widgets/base",
            "top": null,
            "grid_column": null,
            "overflow_y": null,
            "overflow_x": null,
            "grid_auto_flow": null,
            "grid_area": null,
            "grid_template_columns": null,
            "flex": null,
            "_model_name": "LayoutModel",
            "justify_items": null,
            "grid_row": null,
            "max_height": null,
            "align_content": null,
            "visibility": null,
            "align_self": null,
            "height": null,
            "min_height": null,
            "padding": null,
            "grid_auto_rows": null,
            "grid_gap": null,
            "max_width": null,
            "order": null,
            "_view_module_version": "1.2.0",
            "grid_template_areas": null,
            "object_position": null,
            "object_fit": null,
            "grid_auto_columns": null,
            "margin": null,
            "display": null,
            "left": null
          }
        },
        "a3945ebcf3894503bbba91675efabfff": {
          "model_module": "@jupyter-widgets/controls",
          "model_name": "HBoxModel",
          "state": {
            "_view_name": "HBoxView",
            "_dom_classes": [],
            "_model_name": "HBoxModel",
            "_view_module": "@jupyter-widgets/controls",
            "_model_module_version": "1.5.0",
            "_view_count": null,
            "_view_module_version": "1.5.0",
            "box_style": "",
            "layout": "IPY_MODEL_aa96e8b6bbd14b18b21e9a84ab97f819",
            "_model_module": "@jupyter-widgets/controls",
            "children": [
              "IPY_MODEL_89a1de01b3124885b317e153292569b8",
              "IPY_MODEL_50739f2413a34ec4b025286868eafa4e"
            ]
          }
        },
        "aa96e8b6bbd14b18b21e9a84ab97f819": {
          "model_module": "@jupyter-widgets/base",
          "model_name": "LayoutModel",
          "state": {
            "_view_name": "LayoutView",
            "grid_template_rows": null,
            "right": null,
            "justify_content": null,
            "_view_module": "@jupyter-widgets/base",
            "overflow": null,
            "_model_module_version": "1.2.0",
            "_view_count": null,
            "flex_flow": null,
            "width": null,
            "min_width": null,
            "border": null,
            "align_items": null,
            "bottom": null,
            "_model_module": "@jupyter-widgets/base",
            "top": null,
            "grid_column": null,
            "overflow_y": null,
            "overflow_x": null,
            "grid_auto_flow": null,
            "grid_area": null,
            "grid_template_columns": null,
            "flex": null,
            "_model_name": "LayoutModel",
            "justify_items": null,
            "grid_row": null,
            "max_height": null,
            "align_content": null,
            "visibility": null,
            "align_self": null,
            "height": null,
            "min_height": null,
            "padding": null,
            "grid_auto_rows": null,
            "grid_gap": null,
            "max_width": null,
            "order": null,
            "_view_module_version": "1.2.0",
            "grid_template_areas": null,
            "object_position": null,
            "object_fit": null,
            "grid_auto_columns": null,
            "margin": null,
            "display": null,
            "left": null
          }
        },
        "89a1de01b3124885b317e153292569b8": {
          "model_module": "@jupyter-widgets/controls",
          "model_name": "FloatProgressModel",
          "state": {
            "_view_name": "ProgressView",
            "style": "IPY_MODEL_53b96477f4bc415286036a7c7f1022dc",
            "_dom_classes": [],
            "description": "Downloading: 100%",
            "_model_name": "FloatProgressModel",
            "bar_style": "success",
            "max": 213450,
            "_view_module": "@jupyter-widgets/controls",
            "_model_module_version": "1.5.0",
            "value": 213450,
            "_view_count": null,
            "_view_module_version": "1.5.0",
            "orientation": "horizontal",
            "min": 0,
            "description_tooltip": null,
            "_model_module": "@jupyter-widgets/controls",
            "layout": "IPY_MODEL_767387e8bf8745209b177a5e924ab205"
          }
        },
        "50739f2413a34ec4b025286868eafa4e": {
          "model_module": "@jupyter-widgets/controls",
          "model_name": "HTMLModel",
          "state": {
            "_view_name": "HTMLView",
            "style": "IPY_MODEL_fd77b0c68cb04543a5899c13db91f05b",
            "_dom_classes": [],
            "description": "",
            "_model_name": "HTMLModel",
            "placeholder": "​",
            "_view_module": "@jupyter-widgets/controls",
            "_model_module_version": "1.5.0",
            "value": " 213k/213k [00:10&lt;00:00, 20.4kB/s]",
            "_view_count": null,
            "_view_module_version": "1.5.0",
            "description_tooltip": null,
            "_model_module": "@jupyter-widgets/controls",
            "layout": "IPY_MODEL_d10331346f4e439ca6912a01a38de823"
          }
        },
        "53b96477f4bc415286036a7c7f1022dc": {
          "model_module": "@jupyter-widgets/controls",
          "model_name": "ProgressStyleModel",
          "state": {
            "_view_name": "StyleView",
            "_model_name": "ProgressStyleModel",
            "description_width": "initial",
            "_view_module": "@jupyter-widgets/base",
            "_model_module_version": "1.5.0",
            "_view_count": null,
            "_view_module_version": "1.2.0",
            "bar_color": null,
            "_model_module": "@jupyter-widgets/controls"
          }
        },
        "767387e8bf8745209b177a5e924ab205": {
          "model_module": "@jupyter-widgets/base",
          "model_name": "LayoutModel",
          "state": {
            "_view_name": "LayoutView",
            "grid_template_rows": null,
            "right": null,
            "justify_content": null,
            "_view_module": "@jupyter-widgets/base",
            "overflow": null,
            "_model_module_version": "1.2.0",
            "_view_count": null,
            "flex_flow": null,
            "width": null,
            "min_width": null,
            "border": null,
            "align_items": null,
            "bottom": null,
            "_model_module": "@jupyter-widgets/base",
            "top": null,
            "grid_column": null,
            "overflow_y": null,
            "overflow_x": null,
            "grid_auto_flow": null,
            "grid_area": null,
            "grid_template_columns": null,
            "flex": null,
            "_model_name": "LayoutModel",
            "justify_items": null,
            "grid_row": null,
            "max_height": null,
            "align_content": null,
            "visibility": null,
            "align_self": null,
            "height": null,
            "min_height": null,
            "padding": null,
            "grid_auto_rows": null,
            "grid_gap": null,
            "max_width": null,
            "order": null,
            "_view_module_version": "1.2.0",
            "grid_template_areas": null,
            "object_position": null,
            "object_fit": null,
            "grid_auto_columns": null,
            "margin": null,
            "display": null,
            "left": null
          }
        },
        "fd77b0c68cb04543a5899c13db91f05b": {
          "model_module": "@jupyter-widgets/controls",
          "model_name": "DescriptionStyleModel",
          "state": {
            "_view_name": "StyleView",
            "_model_name": "DescriptionStyleModel",
            "description_width": "",
            "_view_module": "@jupyter-widgets/base",
            "_model_module_version": "1.5.0",
            "_view_count": null,
            "_view_module_version": "1.2.0",
            "_model_module": "@jupyter-widgets/controls"
          }
        },
        "d10331346f4e439ca6912a01a38de823": {
          "model_module": "@jupyter-widgets/base",
          "model_name": "LayoutModel",
          "state": {
            "_view_name": "LayoutView",
            "grid_template_rows": null,
            "right": null,
            "justify_content": null,
            "_view_module": "@jupyter-widgets/base",
            "overflow": null,
            "_model_module_version": "1.2.0",
            "_view_count": null,
            "flex_flow": null,
            "width": null,
            "min_width": null,
            "border": null,
            "align_items": null,
            "bottom": null,
            "_model_module": "@jupyter-widgets/base",
            "top": null,
            "grid_column": null,
            "overflow_y": null,
            "overflow_x": null,
            "grid_auto_flow": null,
            "grid_area": null,
            "grid_template_columns": null,
            "flex": null,
            "_model_name": "LayoutModel",
            "justify_items": null,
            "grid_row": null,
            "max_height": null,
            "align_content": null,
            "visibility": null,
            "align_self": null,
            "height": null,
            "min_height": null,
            "padding": null,
            "grid_auto_rows": null,
            "grid_gap": null,
            "max_width": null,
            "order": null,
            "_view_module_version": "1.2.0",
            "grid_template_areas": null,
            "object_position": null,
            "object_fit": null,
            "grid_auto_columns": null,
            "margin": null,
            "display": null,
            "left": null
          }
        },
        "062bdd65292f410aacda3c5034f20683": {
          "model_module": "@jupyter-widgets/controls",
          "model_name": "HBoxModel",
          "state": {
            "_view_name": "HBoxView",
            "_dom_classes": [],
            "_model_name": "HBoxModel",
            "_view_module": "@jupyter-widgets/controls",
            "_model_module_version": "1.5.0",
            "_view_count": null,
            "_view_module_version": "1.5.0",
            "box_style": "",
            "layout": "IPY_MODEL_4feb73afc2414a83947a21c4e92457d1",
            "_model_module": "@jupyter-widgets/controls",
            "children": [
              "IPY_MODEL_76b493d2deb0453d971a8d47c3268dc3",
              "IPY_MODEL_f85369d50bad4d40b45aa7a9ee7e2c74"
            ]
          }
        },
        "4feb73afc2414a83947a21c4e92457d1": {
          "model_module": "@jupyter-widgets/base",
          "model_name": "LayoutModel",
          "state": {
            "_view_name": "LayoutView",
            "grid_template_rows": null,
            "right": null,
            "justify_content": null,
            "_view_module": "@jupyter-widgets/base",
            "overflow": null,
            "_model_module_version": "1.2.0",
            "_view_count": null,
            "flex_flow": null,
            "width": null,
            "min_width": null,
            "border": null,
            "align_items": null,
            "bottom": null,
            "_model_module": "@jupyter-widgets/base",
            "top": null,
            "grid_column": null,
            "overflow_y": null,
            "overflow_x": null,
            "grid_auto_flow": null,
            "grid_area": null,
            "grid_template_columns": null,
            "flex": null,
            "_model_name": "LayoutModel",
            "justify_items": null,
            "grid_row": null,
            "max_height": null,
            "align_content": null,
            "visibility": null,
            "align_self": null,
            "height": null,
            "min_height": null,
            "padding": null,
            "grid_auto_rows": null,
            "grid_gap": null,
            "max_width": null,
            "order": null,
            "_view_module_version": "1.2.0",
            "grid_template_areas": null,
            "object_position": null,
            "object_fit": null,
            "grid_auto_columns": null,
            "margin": null,
            "display": null,
            "left": null
          }
        },
        "76b493d2deb0453d971a8d47c3268dc3": {
          "model_module": "@jupyter-widgets/controls",
          "model_name": "FloatProgressModel",
          "state": {
            "_view_name": "ProgressView",
            "style": "IPY_MODEL_d9b9a78b910c42e79da61ad03bb8a0b8",
            "_dom_classes": [],
            "description": "Downloading: 100%",
            "_model_name": "FloatProgressModel",
            "bar_style": "success",
            "max": 435797,
            "_view_module": "@jupyter-widgets/controls",
            "_model_module_version": "1.5.0",
            "value": 435797,
            "_view_count": null,
            "_view_module_version": "1.5.0",
            "orientation": "horizontal",
            "min": 0,
            "description_tooltip": null,
            "_model_module": "@jupyter-widgets/controls",
            "layout": "IPY_MODEL_6ff2c75f5ff544f680a94e2244aa3b7e"
          }
        },
        "f85369d50bad4d40b45aa7a9ee7e2c74": {
          "model_module": "@jupyter-widgets/controls",
          "model_name": "HTMLModel",
          "state": {
            "_view_name": "HTMLView",
            "style": "IPY_MODEL_18d4242fd30840af98c884e27f8f2f98",
            "_dom_classes": [],
            "description": "",
            "_model_name": "HTMLModel",
            "placeholder": "​",
            "_view_module": "@jupyter-widgets/controls",
            "_model_module_version": "1.5.0",
            "value": " 436k/436k [00:00&lt;00:00, 1.89MB/s]",
            "_view_count": null,
            "_view_module_version": "1.5.0",
            "description_tooltip": null,
            "_model_module": "@jupyter-widgets/controls",
            "layout": "IPY_MODEL_6ada49b26e6740fdb328a5348c1699e3"
          }
        },
        "d9b9a78b910c42e79da61ad03bb8a0b8": {
          "model_module": "@jupyter-widgets/controls",
          "model_name": "ProgressStyleModel",
          "state": {
            "_view_name": "StyleView",
            "_model_name": "ProgressStyleModel",
            "description_width": "initial",
            "_view_module": "@jupyter-widgets/base",
            "_model_module_version": "1.5.0",
            "_view_count": null,
            "_view_module_version": "1.2.0",
            "bar_color": null,
            "_model_module": "@jupyter-widgets/controls"
          }
        },
        "6ff2c75f5ff544f680a94e2244aa3b7e": {
          "model_module": "@jupyter-widgets/base",
          "model_name": "LayoutModel",
          "state": {
            "_view_name": "LayoutView",
            "grid_template_rows": null,
            "right": null,
            "justify_content": null,
            "_view_module": "@jupyter-widgets/base",
            "overflow": null,
            "_model_module_version": "1.2.0",
            "_view_count": null,
            "flex_flow": null,
            "width": null,
            "min_width": null,
            "border": null,
            "align_items": null,
            "bottom": null,
            "_model_module": "@jupyter-widgets/base",
            "top": null,
            "grid_column": null,
            "overflow_y": null,
            "overflow_x": null,
            "grid_auto_flow": null,
            "grid_area": null,
            "grid_template_columns": null,
            "flex": null,
            "_model_name": "LayoutModel",
            "justify_items": null,
            "grid_row": null,
            "max_height": null,
            "align_content": null,
            "visibility": null,
            "align_self": null,
            "height": null,
            "min_height": null,
            "padding": null,
            "grid_auto_rows": null,
            "grid_gap": null,
            "max_width": null,
            "order": null,
            "_view_module_version": "1.2.0",
            "grid_template_areas": null,
            "object_position": null,
            "object_fit": null,
            "grid_auto_columns": null,
            "margin": null,
            "display": null,
            "left": null
          }
        },
        "18d4242fd30840af98c884e27f8f2f98": {
          "model_module": "@jupyter-widgets/controls",
          "model_name": "DescriptionStyleModel",
          "state": {
            "_view_name": "StyleView",
            "_model_name": "DescriptionStyleModel",
            "description_width": "",
            "_view_module": "@jupyter-widgets/base",
            "_model_module_version": "1.5.0",
            "_view_count": null,
            "_view_module_version": "1.2.0",
            "_model_module": "@jupyter-widgets/controls"
          }
        },
        "6ada49b26e6740fdb328a5348c1699e3": {
          "model_module": "@jupyter-widgets/base",
          "model_name": "LayoutModel",
          "state": {
            "_view_name": "LayoutView",
            "grid_template_rows": null,
            "right": null,
            "justify_content": null,
            "_view_module": "@jupyter-widgets/base",
            "overflow": null,
            "_model_module_version": "1.2.0",
            "_view_count": null,
            "flex_flow": null,
            "width": null,
            "min_width": null,
            "border": null,
            "align_items": null,
            "bottom": null,
            "_model_module": "@jupyter-widgets/base",
            "top": null,
            "grid_column": null,
            "overflow_y": null,
            "overflow_x": null,
            "grid_auto_flow": null,
            "grid_area": null,
            "grid_template_columns": null,
            "flex": null,
            "_model_name": "LayoutModel",
            "justify_items": null,
            "grid_row": null,
            "max_height": null,
            "align_content": null,
            "visibility": null,
            "align_self": null,
            "height": null,
            "min_height": null,
            "padding": null,
            "grid_auto_rows": null,
            "grid_gap": null,
            "max_width": null,
            "order": null,
            "_view_module_version": "1.2.0",
            "grid_template_areas": null,
            "object_position": null,
            "object_fit": null,
            "grid_auto_columns": null,
            "margin": null,
            "display": null,
            "left": null
          }
        },
        "6a435322cf5246b0b6d5bcf4a5050261": {
          "model_module": "@jupyter-widgets/controls",
          "model_name": "HBoxModel",
          "state": {
            "_view_name": "HBoxView",
            "_dom_classes": [],
            "_model_name": "HBoxModel",
            "_view_module": "@jupyter-widgets/controls",
            "_model_module_version": "1.5.0",
            "_view_count": null,
            "_view_module_version": "1.5.0",
            "box_style": "",
            "layout": "IPY_MODEL_4750a7f3b8fa4a8ca01a9e1a251786be",
            "_model_module": "@jupyter-widgets/controls",
            "children": [
              "IPY_MODEL_7cde4025ed4f4f08a762f1edfbc9b45a",
              "IPY_MODEL_9c1fa38e062d48a19596649ca26e8f9b"
            ]
          }
        },
        "4750a7f3b8fa4a8ca01a9e1a251786be": {
          "model_module": "@jupyter-widgets/base",
          "model_name": "LayoutModel",
          "state": {
            "_view_name": "LayoutView",
            "grid_template_rows": null,
            "right": null,
            "justify_content": null,
            "_view_module": "@jupyter-widgets/base",
            "overflow": null,
            "_model_module_version": "1.2.0",
            "_view_count": null,
            "flex_flow": null,
            "width": null,
            "min_width": null,
            "border": null,
            "align_items": null,
            "bottom": null,
            "_model_module": "@jupyter-widgets/base",
            "top": null,
            "grid_column": null,
            "overflow_y": null,
            "overflow_x": null,
            "grid_auto_flow": null,
            "grid_area": null,
            "grid_template_columns": null,
            "flex": null,
            "_model_name": "LayoutModel",
            "justify_items": null,
            "grid_row": null,
            "max_height": null,
            "align_content": null,
            "visibility": null,
            "align_self": null,
            "height": null,
            "min_height": null,
            "padding": null,
            "grid_auto_rows": null,
            "grid_gap": null,
            "max_width": null,
            "order": null,
            "_view_module_version": "1.2.0",
            "grid_template_areas": null,
            "object_position": null,
            "object_fit": null,
            "grid_auto_columns": null,
            "margin": null,
            "display": null,
            "left": null
          }
        },
        "7cde4025ed4f4f08a762f1edfbc9b45a": {
          "model_module": "@jupyter-widgets/controls",
          "model_name": "FloatProgressModel",
          "state": {
            "_view_name": "ProgressView",
            "style": "IPY_MODEL_5d9ecc500a9d43bb844e5e83739c3ef7",
            "_dom_classes": [],
            "description": "Downloading: 100%",
            "_model_name": "FloatProgressModel",
            "bar_style": "success",
            "max": 29,
            "_view_module": "@jupyter-widgets/controls",
            "_model_module_version": "1.5.0",
            "value": 29,
            "_view_count": null,
            "_view_module_version": "1.5.0",
            "orientation": "horizontal",
            "min": 0,
            "description_tooltip": null,
            "_model_module": "@jupyter-widgets/controls",
            "layout": "IPY_MODEL_ff110338ff804c998410c8025d571775"
          }
        },
        "9c1fa38e062d48a19596649ca26e8f9b": {
          "model_module": "@jupyter-widgets/controls",
          "model_name": "HTMLModel",
          "state": {
            "_view_name": "HTMLView",
            "style": "IPY_MODEL_db9b391b27d34c288458d7d0885da69f",
            "_dom_classes": [],
            "description": "",
            "_model_name": "HTMLModel",
            "placeholder": "​",
            "_view_module": "@jupyter-widgets/controls",
            "_model_module_version": "1.5.0",
            "value": " 29.0/29.0 [00:00&lt;00:00, 272B/s]",
            "_view_count": null,
            "_view_module_version": "1.5.0",
            "description_tooltip": null,
            "_model_module": "@jupyter-widgets/controls",
            "layout": "IPY_MODEL_f835c8d272bb457cade04a91099496fe"
          }
        },
        "5d9ecc500a9d43bb844e5e83739c3ef7": {
          "model_module": "@jupyter-widgets/controls",
          "model_name": "ProgressStyleModel",
          "state": {
            "_view_name": "StyleView",
            "_model_name": "ProgressStyleModel",
            "description_width": "initial",
            "_view_module": "@jupyter-widgets/base",
            "_model_module_version": "1.5.0",
            "_view_count": null,
            "_view_module_version": "1.2.0",
            "bar_color": null,
            "_model_module": "@jupyter-widgets/controls"
          }
        },
        "ff110338ff804c998410c8025d571775": {
          "model_module": "@jupyter-widgets/base",
          "model_name": "LayoutModel",
          "state": {
            "_view_name": "LayoutView",
            "grid_template_rows": null,
            "right": null,
            "justify_content": null,
            "_view_module": "@jupyter-widgets/base",
            "overflow": null,
            "_model_module_version": "1.2.0",
            "_view_count": null,
            "flex_flow": null,
            "width": null,
            "min_width": null,
            "border": null,
            "align_items": null,
            "bottom": null,
            "_model_module": "@jupyter-widgets/base",
            "top": null,
            "grid_column": null,
            "overflow_y": null,
            "overflow_x": null,
            "grid_auto_flow": null,
            "grid_area": null,
            "grid_template_columns": null,
            "flex": null,
            "_model_name": "LayoutModel",
            "justify_items": null,
            "grid_row": null,
            "max_height": null,
            "align_content": null,
            "visibility": null,
            "align_self": null,
            "height": null,
            "min_height": null,
            "padding": null,
            "grid_auto_rows": null,
            "grid_gap": null,
            "max_width": null,
            "order": null,
            "_view_module_version": "1.2.0",
            "grid_template_areas": null,
            "object_position": null,
            "object_fit": null,
            "grid_auto_columns": null,
            "margin": null,
            "display": null,
            "left": null
          }
        },
        "db9b391b27d34c288458d7d0885da69f": {
          "model_module": "@jupyter-widgets/controls",
          "model_name": "DescriptionStyleModel",
          "state": {
            "_view_name": "StyleView",
            "_model_name": "DescriptionStyleModel",
            "description_width": "",
            "_view_module": "@jupyter-widgets/base",
            "_model_module_version": "1.5.0",
            "_view_count": null,
            "_view_module_version": "1.2.0",
            "_model_module": "@jupyter-widgets/controls"
          }
        },
        "f835c8d272bb457cade04a91099496fe": {
          "model_module": "@jupyter-widgets/base",
          "model_name": "LayoutModel",
          "state": {
            "_view_name": "LayoutView",
            "grid_template_rows": null,
            "right": null,
            "justify_content": null,
            "_view_module": "@jupyter-widgets/base",
            "overflow": null,
            "_model_module_version": "1.2.0",
            "_view_count": null,
            "flex_flow": null,
            "width": null,
            "min_width": null,
            "border": null,
            "align_items": null,
            "bottom": null,
            "_model_module": "@jupyter-widgets/base",
            "top": null,
            "grid_column": null,
            "overflow_y": null,
            "overflow_x": null,
            "grid_auto_flow": null,
            "grid_area": null,
            "grid_template_columns": null,
            "flex": null,
            "_model_name": "LayoutModel",
            "justify_items": null,
            "grid_row": null,
            "max_height": null,
            "align_content": null,
            "visibility": null,
            "align_self": null,
            "height": null,
            "min_height": null,
            "padding": null,
            "grid_auto_rows": null,
            "grid_gap": null,
            "max_width": null,
            "order": null,
            "_view_module_version": "1.2.0",
            "grid_template_areas": null,
            "object_position": null,
            "object_fit": null,
            "grid_auto_columns": null,
            "margin": null,
            "display": null,
            "left": null
          }
        },
        "ff89e7a0a9c24422acaca4412a12dc10": {
          "model_module": "@jupyter-widgets/controls",
          "model_name": "HBoxModel",
          "state": {
            "_view_name": "HBoxView",
            "_dom_classes": [],
            "_model_name": "HBoxModel",
            "_view_module": "@jupyter-widgets/controls",
            "_model_module_version": "1.5.0",
            "_view_count": null,
            "_view_module_version": "1.5.0",
            "box_style": "",
            "layout": "IPY_MODEL_5c60ef21a59c459fa9e5010b0e934bed",
            "_model_module": "@jupyter-widgets/controls",
            "children": [
              "IPY_MODEL_4946e8262718498299f3068275f91770",
              "IPY_MODEL_6fc6b2d9e01f45bcbae4cf825c684359"
            ]
          }
        },
        "5c60ef21a59c459fa9e5010b0e934bed": {
          "model_module": "@jupyter-widgets/base",
          "model_name": "LayoutModel",
          "state": {
            "_view_name": "LayoutView",
            "grid_template_rows": null,
            "right": null,
            "justify_content": null,
            "_view_module": "@jupyter-widgets/base",
            "overflow": null,
            "_model_module_version": "1.2.0",
            "_view_count": null,
            "flex_flow": null,
            "width": null,
            "min_width": null,
            "border": null,
            "align_items": null,
            "bottom": null,
            "_model_module": "@jupyter-widgets/base",
            "top": null,
            "grid_column": null,
            "overflow_y": null,
            "overflow_x": null,
            "grid_auto_flow": null,
            "grid_area": null,
            "grid_template_columns": null,
            "flex": null,
            "_model_name": "LayoutModel",
            "justify_items": null,
            "grid_row": null,
            "max_height": null,
            "align_content": null,
            "visibility": null,
            "align_self": null,
            "height": null,
            "min_height": null,
            "padding": null,
            "grid_auto_rows": null,
            "grid_gap": null,
            "max_width": null,
            "order": null,
            "_view_module_version": "1.2.0",
            "grid_template_areas": null,
            "object_position": null,
            "object_fit": null,
            "grid_auto_columns": null,
            "margin": null,
            "display": null,
            "left": null
          }
        },
        "4946e8262718498299f3068275f91770": {
          "model_module": "@jupyter-widgets/controls",
          "model_name": "FloatProgressModel",
          "state": {
            "_view_name": "ProgressView",
            "style": "IPY_MODEL_42b71a6fc8ea4bd9baab331bee4e5c51",
            "_dom_classes": [],
            "description": "Downloading: 100%",
            "_model_name": "FloatProgressModel",
            "bar_style": "success",
            "max": 526681800,
            "_view_module": "@jupyter-widgets/controls",
            "_model_module_version": "1.5.0",
            "value": 526681800,
            "_view_count": null,
            "_view_module_version": "1.5.0",
            "orientation": "horizontal",
            "min": 0,
            "description_tooltip": null,
            "_model_module": "@jupyter-widgets/controls",
            "layout": "IPY_MODEL_729bc250ecec4d42a520f3dc7def2567"
          }
        },
        "6fc6b2d9e01f45bcbae4cf825c684359": {
          "model_module": "@jupyter-widgets/controls",
          "model_name": "HTMLModel",
          "state": {
            "_view_name": "HTMLView",
            "style": "IPY_MODEL_8f94900394824d6e9e1bcd4e0b3b07ea",
            "_dom_classes": [],
            "description": "",
            "_model_name": "HTMLModel",
            "placeholder": "​",
            "_view_module": "@jupyter-widgets/controls",
            "_model_module_version": "1.5.0",
            "value": " 527M/527M [00:09&lt;00:00, 53.9MB/s]",
            "_view_count": null,
            "_view_module_version": "1.5.0",
            "description_tooltip": null,
            "_model_module": "@jupyter-widgets/controls",
            "layout": "IPY_MODEL_2fe1c9bde86c474dba46fe7c1bc4df74"
          }
        },
        "42b71a6fc8ea4bd9baab331bee4e5c51": {
          "model_module": "@jupyter-widgets/controls",
          "model_name": "ProgressStyleModel",
          "state": {
            "_view_name": "StyleView",
            "_model_name": "ProgressStyleModel",
            "description_width": "initial",
            "_view_module": "@jupyter-widgets/base",
            "_model_module_version": "1.5.0",
            "_view_count": null,
            "_view_module_version": "1.2.0",
            "bar_color": null,
            "_model_module": "@jupyter-widgets/controls"
          }
        },
        "729bc250ecec4d42a520f3dc7def2567": {
          "model_module": "@jupyter-widgets/base",
          "model_name": "LayoutModel",
          "state": {
            "_view_name": "LayoutView",
            "grid_template_rows": null,
            "right": null,
            "justify_content": null,
            "_view_module": "@jupyter-widgets/base",
            "overflow": null,
            "_model_module_version": "1.2.0",
            "_view_count": null,
            "flex_flow": null,
            "width": null,
            "min_width": null,
            "border": null,
            "align_items": null,
            "bottom": null,
            "_model_module": "@jupyter-widgets/base",
            "top": null,
            "grid_column": null,
            "overflow_y": null,
            "overflow_x": null,
            "grid_auto_flow": null,
            "grid_area": null,
            "grid_template_columns": null,
            "flex": null,
            "_model_name": "LayoutModel",
            "justify_items": null,
            "grid_row": null,
            "max_height": null,
            "align_content": null,
            "visibility": null,
            "align_self": null,
            "height": null,
            "min_height": null,
            "padding": null,
            "grid_auto_rows": null,
            "grid_gap": null,
            "max_width": null,
            "order": null,
            "_view_module_version": "1.2.0",
            "grid_template_areas": null,
            "object_position": null,
            "object_fit": null,
            "grid_auto_columns": null,
            "margin": null,
            "display": null,
            "left": null
          }
        },
        "8f94900394824d6e9e1bcd4e0b3b07ea": {
          "model_module": "@jupyter-widgets/controls",
          "model_name": "DescriptionStyleModel",
          "state": {
            "_view_name": "StyleView",
            "_model_name": "DescriptionStyleModel",
            "description_width": "",
            "_view_module": "@jupyter-widgets/base",
            "_model_module_version": "1.5.0",
            "_view_count": null,
            "_view_module_version": "1.2.0",
            "_model_module": "@jupyter-widgets/controls"
          }
        },
        "2fe1c9bde86c474dba46fe7c1bc4df74": {
          "model_module": "@jupyter-widgets/base",
          "model_name": "LayoutModel",
          "state": {
            "_view_name": "LayoutView",
            "grid_template_rows": null,
            "right": null,
            "justify_content": null,
            "_view_module": "@jupyter-widgets/base",
            "overflow": null,
            "_model_module_version": "1.2.0",
            "_view_count": null,
            "flex_flow": null,
            "width": null,
            "min_width": null,
            "border": null,
            "align_items": null,
            "bottom": null,
            "_model_module": "@jupyter-widgets/base",
            "top": null,
            "grid_column": null,
            "overflow_y": null,
            "overflow_x": null,
            "grid_auto_flow": null,
            "grid_area": null,
            "grid_template_columns": null,
            "flex": null,
            "_model_name": "LayoutModel",
            "justify_items": null,
            "grid_row": null,
            "max_height": null,
            "align_content": null,
            "visibility": null,
            "align_self": null,
            "height": null,
            "min_height": null,
            "padding": null,
            "grid_auto_rows": null,
            "grid_gap": null,
            "max_width": null,
            "order": null,
            "_view_module_version": "1.2.0",
            "grid_template_areas": null,
            "object_position": null,
            "object_fit": null,
            "grid_auto_columns": null,
            "margin": null,
            "display": null,
            "left": null
          }
        }
      }
    }
  },
  "cells": [
    {
      "cell_type": "markdown",
      "metadata": {
        "collapsed": true,
        "pycharm": {
          "is_executing": false,
          "name": "#%% md\n"
        },
        "id": "uRP8Fzfv3kfR"
      },
      "source": [
        "## Introduction to Huggingface __transformers__ library\n",
        "* The transformers library is an open-source, community-based repository to train, use and share models based on the Transformer architecture such as \n",
        "  * Bert\n",
        "  * GPT2\n",
        "  * XLNet\n",
        "\n",
        "* Along with the models, the library contains multiple variations of each of them for a large variety of downstream-tasks like \n",
        "\n",
        "  * Named Entity Recognition (NER)\n",
        "\n",
        "  * Classification Tasks (like Text Classification, Sentiment Analysis )\n",
        "\n",
        "  * Language Modeling\n",
        "\n",
        "  * Question Answering.\n",
        "\n",
        "* The transformers library allows you to benefits from large, pretrained language models without requiring a huge and costly computational infrastructure. \n"
      ]
    },
    {
      "cell_type": "markdown",
      "metadata": {
        "pycharm": {
          "name": "#%% md\n"
        },
        "id": "GWE2DvS-3kfS"
      },
      "source": [
        "## Getting started with transformers"
      ]
    },
    {
      "cell_type": "markdown",
      "metadata": {
        "id": "2DNOVd_pMNd4"
      },
      "source": [
        "Install HuggingFace transformers library"
      ]
    },
    {
      "cell_type": "code",
      "metadata": {
        "pycharm": {
          "is_executing": false,
          "name": "#%% code\n"
        },
        "scrolled": true,
        "id": "M02Zv1_L3kfT",
        "colab": {
          "base_uri": "https://localhost:8080/"
        },
        "outputId": "b36ac7fc-1daf-4cb7-c31b-851d77d4786a"
      },
      "source": [
        "!pip install transformers"
      ],
      "execution_count": 1,
      "outputs": [
        {
          "output_type": "stream",
          "text": [
            "Collecting transformers\n",
            "\u001b[?25l  Downloading https://files.pythonhosted.org/packages/ed/d5/f4157a376b8a79489a76ce6cfe147f4f3be1e029b7144fa7b8432e8acb26/transformers-4.4.2-py3-none-any.whl (2.0MB)\n",
            "\r\u001b[K     |▏                               | 10kB 23.2MB/s eta 0:00:01\r\u001b[K     |▎                               | 20kB 30.6MB/s eta 0:00:01\r\u001b[K     |▌                               | 30kB 21.1MB/s eta 0:00:01\r\u001b[K     |▋                               | 40kB 24.5MB/s eta 0:00:01\r\u001b[K     |▉                               | 51kB 25.3MB/s eta 0:00:01\r\u001b[K     |█                               | 61kB 27.8MB/s eta 0:00:01\r\u001b[K     |█▏                              | 71kB 19.0MB/s eta 0:00:01\r\u001b[K     |█▎                              | 81kB 20.1MB/s eta 0:00:01\r\u001b[K     |█▌                              | 92kB 19.2MB/s eta 0:00:01\r\u001b[K     |█▋                              | 102kB 20.5MB/s eta 0:00:01\r\u001b[K     |█▉                              | 112kB 20.5MB/s eta 0:00:01\r\u001b[K     |██                              | 122kB 20.5MB/s eta 0:00:01\r\u001b[K     |██▏                             | 133kB 20.5MB/s eta 0:00:01\r\u001b[K     |██▎                             | 143kB 20.5MB/s eta 0:00:01\r\u001b[K     |██▌                             | 153kB 20.5MB/s eta 0:00:01\r\u001b[K     |██▋                             | 163kB 20.5MB/s eta 0:00:01\r\u001b[K     |██▉                             | 174kB 20.5MB/s eta 0:00:01\r\u001b[K     |███                             | 184kB 20.5MB/s eta 0:00:01\r\u001b[K     |███▏                            | 194kB 20.5MB/s eta 0:00:01\r\u001b[K     |███▎                            | 204kB 20.5MB/s eta 0:00:01\r\u001b[K     |███▌                            | 215kB 20.5MB/s eta 0:00:01\r\u001b[K     |███▋                            | 225kB 20.5MB/s eta 0:00:01\r\u001b[K     |███▉                            | 235kB 20.5MB/s eta 0:00:01\r\u001b[K     |████                            | 245kB 20.5MB/s eta 0:00:01\r\u001b[K     |████▏                           | 256kB 20.5MB/s eta 0:00:01\r\u001b[K     |████▎                           | 266kB 20.5MB/s eta 0:00:01\r\u001b[K     |████▌                           | 276kB 20.5MB/s eta 0:00:01\r\u001b[K     |████▋                           | 286kB 20.5MB/s eta 0:00:01\r\u001b[K     |████▉                           | 296kB 20.5MB/s eta 0:00:01\r\u001b[K     |█████                           | 307kB 20.5MB/s eta 0:00:01\r\u001b[K     |█████▏                          | 317kB 20.5MB/s eta 0:00:01\r\u001b[K     |█████▎                          | 327kB 20.5MB/s eta 0:00:01\r\u001b[K     |█████▌                          | 337kB 20.5MB/s eta 0:00:01\r\u001b[K     |█████▋                          | 348kB 20.5MB/s eta 0:00:01\r\u001b[K     |█████▉                          | 358kB 20.5MB/s eta 0:00:01\r\u001b[K     |██████                          | 368kB 20.5MB/s eta 0:00:01\r\u001b[K     |██████▏                         | 378kB 20.5MB/s eta 0:00:01\r\u001b[K     |██████▎                         | 389kB 20.5MB/s eta 0:00:01\r\u001b[K     |██████▌                         | 399kB 20.5MB/s eta 0:00:01\r\u001b[K     |██████▋                         | 409kB 20.5MB/s eta 0:00:01\r\u001b[K     |██████▉                         | 419kB 20.5MB/s eta 0:00:01\r\u001b[K     |███████                         | 430kB 20.5MB/s eta 0:00:01\r\u001b[K     |███████▏                        | 440kB 20.5MB/s eta 0:00:01\r\u001b[K     |███████▎                        | 450kB 20.5MB/s eta 0:00:01\r\u001b[K     |███████▌                        | 460kB 20.5MB/s eta 0:00:01\r\u001b[K     |███████▋                        | 471kB 20.5MB/s eta 0:00:01\r\u001b[K     |███████▉                        | 481kB 20.5MB/s eta 0:00:01\r\u001b[K     |████████                        | 491kB 20.5MB/s eta 0:00:01\r\u001b[K     |████████▏                       | 501kB 20.5MB/s eta 0:00:01\r\u001b[K     |████████▎                       | 512kB 20.5MB/s eta 0:00:01\r\u001b[K     |████████▌                       | 522kB 20.5MB/s eta 0:00:01\r\u001b[K     |████████▋                       | 532kB 20.5MB/s eta 0:00:01\r\u001b[K     |████████▉                       | 542kB 20.5MB/s eta 0:00:01\r\u001b[K     |█████████                       | 552kB 20.5MB/s eta 0:00:01\r\u001b[K     |█████████▏                      | 563kB 20.5MB/s eta 0:00:01\r\u001b[K     |█████████▎                      | 573kB 20.5MB/s eta 0:00:01\r\u001b[K     |█████████▌                      | 583kB 20.5MB/s eta 0:00:01\r\u001b[K     |█████████▋                      | 593kB 20.5MB/s eta 0:00:01\r\u001b[K     |█████████▉                      | 604kB 20.5MB/s eta 0:00:01\r\u001b[K     |██████████                      | 614kB 20.5MB/s eta 0:00:01\r\u001b[K     |██████████▏                     | 624kB 20.5MB/s eta 0:00:01\r\u001b[K     |██████████▎                     | 634kB 20.5MB/s eta 0:00:01\r\u001b[K     |██████████▌                     | 645kB 20.5MB/s eta 0:00:01\r\u001b[K     |██████████▋                     | 655kB 20.5MB/s eta 0:00:01\r\u001b[K     |██████████▉                     | 665kB 20.5MB/s eta 0:00:01\r\u001b[K     |███████████                     | 675kB 20.5MB/s eta 0:00:01\r\u001b[K     |███████████▏                    | 686kB 20.5MB/s eta 0:00:01\r\u001b[K     |███████████▎                    | 696kB 20.5MB/s eta 0:00:01\r\u001b[K     |███████████▌                    | 706kB 20.5MB/s eta 0:00:01\r\u001b[K     |███████████▋                    | 716kB 20.5MB/s eta 0:00:01\r\u001b[K     |███████████▉                    | 727kB 20.5MB/s eta 0:00:01\r\u001b[K     |████████████                    | 737kB 20.5MB/s eta 0:00:01\r\u001b[K     |████████████▏                   | 747kB 20.5MB/s eta 0:00:01\r\u001b[K     |████████████▎                   | 757kB 20.5MB/s eta 0:00:01\r\u001b[K     |████████████▌                   | 768kB 20.5MB/s eta 0:00:01\r\u001b[K     |████████████▋                   | 778kB 20.5MB/s eta 0:00:01\r\u001b[K     |████████████▉                   | 788kB 20.5MB/s eta 0:00:01\r\u001b[K     |█████████████                   | 798kB 20.5MB/s eta 0:00:01\r\u001b[K     |█████████████▏                  | 808kB 20.5MB/s eta 0:00:01\r\u001b[K     |█████████████▎                  | 819kB 20.5MB/s eta 0:00:01\r\u001b[K     |█████████████▌                  | 829kB 20.5MB/s eta 0:00:01\r\u001b[K     |█████████████▋                  | 839kB 20.5MB/s eta 0:00:01\r\u001b[K     |█████████████▉                  | 849kB 20.5MB/s eta 0:00:01\r\u001b[K     |██████████████                  | 860kB 20.5MB/s eta 0:00:01\r\u001b[K     |██████████████▏                 | 870kB 20.5MB/s eta 0:00:01\r\u001b[K     |██████████████▎                 | 880kB 20.5MB/s eta 0:00:01\r\u001b[K     |██████████████▌                 | 890kB 20.5MB/s eta 0:00:01\r\u001b[K     |██████████████▋                 | 901kB 20.5MB/s eta 0:00:01\r\u001b[K     |██████████████▊                 | 911kB 20.5MB/s eta 0:00:01\r\u001b[K     |███████████████                 | 921kB 20.5MB/s eta 0:00:01\r\u001b[K     |███████████████                 | 931kB 20.5MB/s eta 0:00:01\r\u001b[K     |███████████████▎                | 942kB 20.5MB/s eta 0:00:01\r\u001b[K     |███████████████▍                | 952kB 20.5MB/s eta 0:00:01\r\u001b[K     |███████████████▋                | 962kB 20.5MB/s eta 0:00:01\r\u001b[K     |███████████████▊                | 972kB 20.5MB/s eta 0:00:01\r\u001b[K     |████████████████                | 983kB 20.5MB/s eta 0:00:01\r\u001b[K     |████████████████                | 993kB 20.5MB/s eta 0:00:01\r\u001b[K     |████████████████▎               | 1.0MB 20.5MB/s eta 0:00:01\r\u001b[K     |████████████████▍               | 1.0MB 20.5MB/s eta 0:00:01\r\u001b[K     |████████████████▋               | 1.0MB 20.5MB/s eta 0:00:01\r\u001b[K     |████████████████▊               | 1.0MB 20.5MB/s eta 0:00:01\r\u001b[K     |█████████████████               | 1.0MB 20.5MB/s eta 0:00:01\r\u001b[K     |█████████████████               | 1.1MB 20.5MB/s eta 0:00:01\r\u001b[K     |█████████████████▎              | 1.1MB 20.5MB/s eta 0:00:01\r\u001b[K     |█████████████████▍              | 1.1MB 20.5MB/s eta 0:00:01\r\u001b[K     |█████████████████▋              | 1.1MB 20.5MB/s eta 0:00:01\r\u001b[K     |█████████████████▊              | 1.1MB 20.5MB/s eta 0:00:01\r\u001b[K     |██████████████████              | 1.1MB 20.5MB/s eta 0:00:01\r\u001b[K     |██████████████████              | 1.1MB 20.5MB/s eta 0:00:01\r\u001b[K     |██████████████████▎             | 1.1MB 20.5MB/s eta 0:00:01\r\u001b[K     |██████████████████▍             | 1.1MB 20.5MB/s eta 0:00:01\r\u001b[K     |██████████████████▋             | 1.1MB 20.5MB/s eta 0:00:01\r\u001b[K     |██████████████████▊             | 1.2MB 20.5MB/s eta 0:00:01\r\u001b[K     |███████████████████             | 1.2MB 20.5MB/s eta 0:00:01\r\u001b[K     |███████████████████             | 1.2MB 20.5MB/s eta 0:00:01\r\u001b[K     |███████████████████▎            | 1.2MB 20.5MB/s eta 0:00:01\r\u001b[K     |███████████████████▍            | 1.2MB 20.5MB/s eta 0:00:01\r\u001b[K     |███████████████████▋            | 1.2MB 20.5MB/s eta 0:00:01\r\u001b[K     |███████████████████▊            | 1.2MB 20.5MB/s eta 0:00:01\r\u001b[K     |████████████████████            | 1.2MB 20.5MB/s eta 0:00:01\r\u001b[K     |████████████████████            | 1.2MB 20.5MB/s eta 0:00:01\r\u001b[K     |████████████████████▎           | 1.2MB 20.5MB/s eta 0:00:01\r\u001b[K     |████████████████████▍           | 1.3MB 20.5MB/s eta 0:00:01\r\u001b[K     |████████████████████▋           | 1.3MB 20.5MB/s eta 0:00:01\r\u001b[K     |████████████████████▊           | 1.3MB 20.5MB/s eta 0:00:01\r\u001b[K     |█████████████████████           | 1.3MB 20.5MB/s eta 0:00:01\r\u001b[K     |█████████████████████           | 1.3MB 20.5MB/s eta 0:00:01\r\u001b[K     |█████████████████████▎          | 1.3MB 20.5MB/s eta 0:00:01\r\u001b[K     |█████████████████████▍          | 1.3MB 20.5MB/s eta 0:00:01\r\u001b[K     |█████████████████████▋          | 1.3MB 20.5MB/s eta 0:00:01\r\u001b[K     |█████████████████████▊          | 1.3MB 20.5MB/s eta 0:00:01\r\u001b[K     |██████████████████████          | 1.4MB 20.5MB/s eta 0:00:01\r\u001b[K     |██████████████████████          | 1.4MB 20.5MB/s eta 0:00:01\r\u001b[K     |██████████████████████▎         | 1.4MB 20.5MB/s eta 0:00:01\r\u001b[K     |██████████████████████▍         | 1.4MB 20.5MB/s eta 0:00:01\r\u001b[K     |██████████████████████▋         | 1.4MB 20.5MB/s eta 0:00:01\r\u001b[K     |██████████████████████▊         | 1.4MB 20.5MB/s eta 0:00:01\r\u001b[K     |███████████████████████         | 1.4MB 20.5MB/s eta 0:00:01\r\u001b[K     |███████████████████████         | 1.4MB 20.5MB/s eta 0:00:01\r\u001b[K     |███████████████████████▎        | 1.4MB 20.5MB/s eta 0:00:01\r\u001b[K     |███████████████████████▍        | 1.4MB 20.5MB/s eta 0:00:01\r\u001b[K     |███████████████████████▋        | 1.5MB 20.5MB/s eta 0:00:01\r\u001b[K     |███████████████████████▊        | 1.5MB 20.5MB/s eta 0:00:01\r\u001b[K     |████████████████████████        | 1.5MB 20.5MB/s eta 0:00:01\r\u001b[K     |████████████████████████        | 1.5MB 20.5MB/s eta 0:00:01\r\u001b[K     |████████████████████████▎       | 1.5MB 20.5MB/s eta 0:00:01\r\u001b[K     |████████████████████████▍       | 1.5MB 20.5MB/s eta 0:00:01\r\u001b[K     |████████████████████████▋       | 1.5MB 20.5MB/s eta 0:00:01\r\u001b[K     |████████████████████████▊       | 1.5MB 20.5MB/s eta 0:00:01\r\u001b[K     |█████████████████████████       | 1.5MB 20.5MB/s eta 0:00:01\r\u001b[K     |█████████████████████████       | 1.5MB 20.5MB/s eta 0:00:01\r\u001b[K     |█████████████████████████▎      | 1.6MB 20.5MB/s eta 0:00:01\r\u001b[K     |█████████████████████████▍      | 1.6MB 20.5MB/s eta 0:00:01\r\u001b[K     |█████████████████████████▋      | 1.6MB 20.5MB/s eta 0:00:01\r\u001b[K     |█████████████████████████▊      | 1.6MB 20.5MB/s eta 0:00:01\r\u001b[K     |██████████████████████████      | 1.6MB 20.5MB/s eta 0:00:01\r\u001b[K     |██████████████████████████      | 1.6MB 20.5MB/s eta 0:00:01\r\u001b[K     |██████████████████████████▎     | 1.6MB 20.5MB/s eta 0:00:01\r\u001b[K     |██████████████████████████▍     | 1.6MB 20.5MB/s eta 0:00:01\r\u001b[K     |██████████████████████████▋     | 1.6MB 20.5MB/s eta 0:00:01\r\u001b[K     |██████████████████████████▊     | 1.6MB 20.5MB/s eta 0:00:01\r\u001b[K     |███████████████████████████     | 1.7MB 20.5MB/s eta 0:00:01\r\u001b[K     |███████████████████████████     | 1.7MB 20.5MB/s eta 0:00:01\r\u001b[K     |███████████████████████████▎    | 1.7MB 20.5MB/s eta 0:00:01\r\u001b[K     |███████████████████████████▍    | 1.7MB 20.5MB/s eta 0:00:01\r\u001b[K     |███████████████████████████▋    | 1.7MB 20.5MB/s eta 0:00:01\r\u001b[K     |███████████████████████████▊    | 1.7MB 20.5MB/s eta 0:00:01\r\u001b[K     |████████████████████████████    | 1.7MB 20.5MB/s eta 0:00:01\r\u001b[K     |████████████████████████████    | 1.7MB 20.5MB/s eta 0:00:01\r\u001b[K     |████████████████████████████▎   | 1.7MB 20.5MB/s eta 0:00:01\r\u001b[K     |████████████████████████████▍   | 1.8MB 20.5MB/s eta 0:00:01\r\u001b[K     |████████████████████████████▋   | 1.8MB 20.5MB/s eta 0:00:01\r\u001b[K     |████████████████████████████▊   | 1.8MB 20.5MB/s eta 0:00:01\r\u001b[K     |█████████████████████████████   | 1.8MB 20.5MB/s eta 0:00:01\r\u001b[K     |█████████████████████████████   | 1.8MB 20.5MB/s eta 0:00:01\r\u001b[K     |█████████████████████████████▎  | 1.8MB 20.5MB/s eta 0:00:01\r\u001b[K     |█████████████████████████████▍  | 1.8MB 20.5MB/s eta 0:00:01\r\u001b[K     |█████████████████████████████▌  | 1.8MB 20.5MB/s eta 0:00:01\r\u001b[K     |█████████████████████████████▊  | 1.8MB 20.5MB/s eta 0:00:01\r\u001b[K     |█████████████████████████████▉  | 1.8MB 20.5MB/s eta 0:00:01\r\u001b[K     |██████████████████████████████  | 1.9MB 20.5MB/s eta 0:00:01\r\u001b[K     |██████████████████████████████▏ | 1.9MB 20.5MB/s eta 0:00:01\r\u001b[K     |██████████████████████████████▍ | 1.9MB 20.5MB/s eta 0:00:01\r\u001b[K     |██████████████████████████████▌ | 1.9MB 20.5MB/s eta 0:00:01\r\u001b[K     |██████████████████████████████▊ | 1.9MB 20.5MB/s eta 0:00:01\r\u001b[K     |██████████████████████████████▉ | 1.9MB 20.5MB/s eta 0:00:01\r\u001b[K     |███████████████████████████████ | 1.9MB 20.5MB/s eta 0:00:01\r\u001b[K     |███████████████████████████████▏| 1.9MB 20.5MB/s eta 0:00:01\r\u001b[K     |███████████████████████████████▍| 1.9MB 20.5MB/s eta 0:00:01\r\u001b[K     |███████████████████████████████▌| 1.9MB 20.5MB/s eta 0:00:01\r\u001b[K     |███████████████████████████████▊| 2.0MB 20.5MB/s eta 0:00:01\r\u001b[K     |███████████████████████████████▉| 2.0MB 20.5MB/s eta 0:00:01\r\u001b[K     |████████████████████████████████| 2.0MB 20.5MB/s \n",
            "\u001b[?25hRequirement already satisfied: importlib-metadata; python_version < \"3.8\" in /usr/local/lib/python3.7/dist-packages (from transformers) (3.8.1)\n",
            "Requirement already satisfied: requests in /usr/local/lib/python3.7/dist-packages (from transformers) (2.23.0)\n",
            "Requirement already satisfied: filelock in /usr/local/lib/python3.7/dist-packages (from transformers) (3.0.12)\n",
            "Requirement already satisfied: regex!=2019.12.17 in /usr/local/lib/python3.7/dist-packages (from transformers) (2019.12.20)\n",
            "Requirement already satisfied: numpy>=1.17 in /usr/local/lib/python3.7/dist-packages (from transformers) (1.19.5)\n",
            "Collecting tokenizers<0.11,>=0.10.1\n",
            "\u001b[?25l  Downloading https://files.pythonhosted.org/packages/71/23/2ddc317b2121117bf34dd00f5b0de194158f2a44ee2bf5e47c7166878a97/tokenizers-0.10.1-cp37-cp37m-manylinux2010_x86_64.whl (3.2MB)\n",
            "\u001b[K     |████████████████████████████████| 3.2MB 50.7MB/s \n",
            "\u001b[?25hRequirement already satisfied: tqdm>=4.27 in /usr/local/lib/python3.7/dist-packages (from transformers) (4.41.1)\n",
            "Collecting sacremoses\n",
            "\u001b[?25l  Downloading https://files.pythonhosted.org/packages/08/cd/342e584ee544d044fb573ae697404ce22ede086c9e87ce5960772084cad0/sacremoses-0.0.44.tar.gz (862kB)\n",
            "\u001b[K     |████████████████████████████████| 870kB 56.9MB/s \n",
            "\u001b[?25hRequirement already satisfied: packaging in /usr/local/lib/python3.7/dist-packages (from transformers) (20.9)\n",
            "Requirement already satisfied: zipp>=0.5 in /usr/local/lib/python3.7/dist-packages (from importlib-metadata; python_version < \"3.8\"->transformers) (3.4.1)\n",
            "Requirement already satisfied: typing-extensions>=3.6.4; python_version < \"3.8\" in /usr/local/lib/python3.7/dist-packages (from importlib-metadata; python_version < \"3.8\"->transformers) (3.7.4.3)\n",
            "Requirement already satisfied: urllib3!=1.25.0,!=1.25.1,<1.26,>=1.21.1 in /usr/local/lib/python3.7/dist-packages (from requests->transformers) (1.24.3)\n",
            "Requirement already satisfied: certifi>=2017.4.17 in /usr/local/lib/python3.7/dist-packages (from requests->transformers) (2020.12.5)\n",
            "Requirement already satisfied: idna<3,>=2.5 in /usr/local/lib/python3.7/dist-packages (from requests->transformers) (2.10)\n",
            "Requirement already satisfied: chardet<4,>=3.0.2 in /usr/local/lib/python3.7/dist-packages (from requests->transformers) (3.0.4)\n",
            "Requirement already satisfied: six in /usr/local/lib/python3.7/dist-packages (from sacremoses->transformers) (1.15.0)\n",
            "Requirement already satisfied: click in /usr/local/lib/python3.7/dist-packages (from sacremoses->transformers) (7.1.2)\n",
            "Requirement already satisfied: joblib in /usr/local/lib/python3.7/dist-packages (from sacremoses->transformers) (1.0.1)\n",
            "Requirement already satisfied: pyparsing>=2.0.2 in /usr/local/lib/python3.7/dist-packages (from packaging->transformers) (2.4.7)\n",
            "Building wheels for collected packages: sacremoses\n",
            "  Building wheel for sacremoses (setup.py) ... \u001b[?25l\u001b[?25hdone\n",
            "  Created wheel for sacremoses: filename=sacremoses-0.0.44-cp37-none-any.whl size=886084 sha256=d46dd949744979c96a6ab6495a9aa48d4eb3dfb7f8b0294f9059a8e8f42ab835\n",
            "  Stored in directory: /root/.cache/pip/wheels/3e/fb/c0/13ab4d63d537658f448366744654323077c4d90069b6512f3c\n",
            "Successfully built sacremoses\n",
            "Installing collected packages: tokenizers, sacremoses, transformers\n",
            "Successfully installed sacremoses-0.0.44 tokenizers-0.10.1 transformers-4.4.2\n"
          ],
          "name": "stdout"
        }
      ]
    },
    {
      "cell_type": "markdown",
      "metadata": {
        "id": "d8iEZaVpMTER"
      },
      "source": [
        "Load tensorflow and required trasformers modules. "
      ]
    },
    {
      "cell_type": "code",
      "metadata": {
        "pycharm": {
          "is_executing": false,
          "name": "#%% code\n"
        },
        "id": "VWgnNsny3kfZ"
      },
      "source": [
        "import tensorflow \n",
        "from transformers import AutoTokenizer, TFAutoModel"
      ],
      "execution_count": 2,
      "outputs": []
    },
    {
      "cell_type": "markdown",
      "metadata": {
        "id": "tk_p32Ha3cpH"
      },
      "source": [
        "## Three types of classes for each model:\n",
        "*   **Model** classes such as BertModel, which are 30+ PyTorch models (torch.nn.Module) or Keras models (tf.keras.Model) that work with the pretrained weights provided in the library.\n",
        "*   **Configuration** classes such as BertConfig, which store all the parameters required to build a model. You don’t always need to instantiate these yourself. In particular, if you are using a pretrained model without any modification, creating the model will automatically take care of instantiating the configuration (which is part of the model).\n",
        "*   **Tokenizer** classes such as BertTokenizer, which store the vocabulary for each model and provide methods for encoding/decoding strings in a list of token embeddings indices to be fed to a model.\n",
        "\n",
        "## All these classes can be instantiated from pretrained instances and saved locally using two methods:\n",
        "\n",
        "*   **from_pretrained()** lets you instantiate a model/configuration/tokenizer from a pretrained version either provided by the library itself (the supported models are provided in the list here) or stored locally (or on a server) by the user,\n",
        "*   **save_pretrained()** lets you save a model/configuration/tokenizer locally so that it can be reloaded using from_pretrained()."
      ]
    },
    {
      "cell_type": "code",
      "metadata": {
        "pycharm": {
          "is_executing": false,
          "name": "#%% code\n"
        },
        "id": "VWFdZZ1B3kfd",
        "colab": {
          "base_uri": "https://localhost:8080/",
          "height": 365,
          "referenced_widgets": [
            "551bad26e0a04d83977cdd62a78733bb",
            "14b8c20a7b6843b9a27b0c744ce49210",
            "1a3a68ece4b14d34930eea7aac540521",
            "b0afa8fb2ea3479887b8ccc6957121a6",
            "98577b1ed63846c49d9463408eceed86",
            "9299f1e075e6488ea80b222cf0f58033",
            "64ebd8c560474f32b1d15b65f7b9855d",
            "281255ebe210448191fcb1f2c27efbc4",
            "a3945ebcf3894503bbba91675efabfff",
            "aa96e8b6bbd14b18b21e9a84ab97f819",
            "89a1de01b3124885b317e153292569b8",
            "50739f2413a34ec4b025286868eafa4e",
            "53b96477f4bc415286036a7c7f1022dc",
            "767387e8bf8745209b177a5e924ab205",
            "fd77b0c68cb04543a5899c13db91f05b",
            "d10331346f4e439ca6912a01a38de823",
            "062bdd65292f410aacda3c5034f20683",
            "4feb73afc2414a83947a21c4e92457d1",
            "76b493d2deb0453d971a8d47c3268dc3",
            "f85369d50bad4d40b45aa7a9ee7e2c74",
            "d9b9a78b910c42e79da61ad03bb8a0b8",
            "6ff2c75f5ff544f680a94e2244aa3b7e",
            "18d4242fd30840af98c884e27f8f2f98",
            "6ada49b26e6740fdb328a5348c1699e3",
            "6a435322cf5246b0b6d5bcf4a5050261",
            "4750a7f3b8fa4a8ca01a9e1a251786be",
            "7cde4025ed4f4f08a762f1edfbc9b45a",
            "9c1fa38e062d48a19596649ca26e8f9b",
            "5d9ecc500a9d43bb844e5e83739c3ef7",
            "ff110338ff804c998410c8025d571775",
            "db9b391b27d34c288458d7d0885da69f",
            "f835c8d272bb457cade04a91099496fe",
            "ff89e7a0a9c24422acaca4412a12dc10",
            "5c60ef21a59c459fa9e5010b0e934bed",
            "4946e8262718498299f3068275f91770",
            "6fc6b2d9e01f45bcbae4cf825c684359",
            "42b71a6fc8ea4bd9baab331bee4e5c51",
            "729bc250ecec4d42a520f3dc7def2567",
            "8f94900394824d6e9e1bcd4e0b3b07ea",
            "2fe1c9bde86c474dba46fe7c1bc4df74"
          ]
        },
        "outputId": "e6dddd28-e7a2-43cc-96f4-3e584cb967ce"
      },
      "source": [
        "# Store the name of the model we want to use\n",
        "MODEL_NAME = \"bert-base-cased\"\n",
        "\n",
        "# Create the pretrained bert tokenizer\n",
        "tokenizer = AutoTokenizer.from_pretrained(MODEL_NAME)\n",
        "\n",
        "# Create the pretrained bert Tensorflow models\n",
        "model = TFAutoModel.from_pretrained(MODEL_NAME)"
      ],
      "execution_count": 3,
      "outputs": [
        {
          "output_type": "display_data",
          "data": {
            "application/vnd.jupyter.widget-view+json": {
              "model_id": "551bad26e0a04d83977cdd62a78733bb",
              "version_minor": 0,
              "version_major": 2
            },
            "text/plain": [
              "HBox(children=(FloatProgress(value=0.0, description='Downloading', max=433.0, style=ProgressStyle(description_…"
            ]
          },
          "metadata": {
            "tags": []
          }
        },
        {
          "output_type": "stream",
          "text": [
            "\n"
          ],
          "name": "stdout"
        },
        {
          "output_type": "display_data",
          "data": {
            "application/vnd.jupyter.widget-view+json": {
              "model_id": "a3945ebcf3894503bbba91675efabfff",
              "version_minor": 0,
              "version_major": 2
            },
            "text/plain": [
              "HBox(children=(FloatProgress(value=0.0, description='Downloading', max=213450.0, style=ProgressStyle(descripti…"
            ]
          },
          "metadata": {
            "tags": []
          }
        },
        {
          "output_type": "stream",
          "text": [
            "\n"
          ],
          "name": "stdout"
        },
        {
          "output_type": "display_data",
          "data": {
            "application/vnd.jupyter.widget-view+json": {
              "model_id": "062bdd65292f410aacda3c5034f20683",
              "version_minor": 0,
              "version_major": 2
            },
            "text/plain": [
              "HBox(children=(FloatProgress(value=0.0, description='Downloading', max=435797.0, style=ProgressStyle(descripti…"
            ]
          },
          "metadata": {
            "tags": []
          }
        },
        {
          "output_type": "stream",
          "text": [
            "\n"
          ],
          "name": "stdout"
        },
        {
          "output_type": "display_data",
          "data": {
            "application/vnd.jupyter.widget-view+json": {
              "model_id": "6a435322cf5246b0b6d5bcf4a5050261",
              "version_minor": 0,
              "version_major": 2
            },
            "text/plain": [
              "HBox(children=(FloatProgress(value=0.0, description='Downloading', max=29.0, style=ProgressStyle(description_w…"
            ]
          },
          "metadata": {
            "tags": []
          }
        },
        {
          "output_type": "stream",
          "text": [
            "\n"
          ],
          "name": "stdout"
        },
        {
          "output_type": "display_data",
          "data": {
            "application/vnd.jupyter.widget-view+json": {
              "model_id": "ff89e7a0a9c24422acaca4412a12dc10",
              "version_minor": 0,
              "version_major": 2
            },
            "text/plain": [
              "HBox(children=(FloatProgress(value=0.0, description='Downloading', max=526681800.0, style=ProgressStyle(descri…"
            ]
          },
          "metadata": {
            "tags": []
          }
        },
        {
          "output_type": "stream",
          "text": [
            "\n"
          ],
          "name": "stdout"
        },
        {
          "output_type": "stream",
          "text": [
            "Some layers from the model checkpoint at bert-base-cased were not used when initializing TFBertModel: ['nsp___cls', 'mlm___cls']\n",
            "- This IS expected if you are initializing TFBertModel from the checkpoint of a model trained on another task or with another architecture (e.g. initializing a BertForSequenceClassification model from a BertForPreTraining model).\n",
            "- This IS NOT expected if you are initializing TFBertModel from the checkpoint of a model that you expect to be exactly identical (initializing a BertForSequenceClassification model from a BertForSequenceClassification model).\n",
            "All the layers of TFBertModel were initialized from the model checkpoint at bert-base-cased.\n",
            "If your task is similar to the task the model of the checkpoint was trained on, you can already use TFBertModel for predictions without further training.\n"
          ],
          "name": "stderr"
        }
      ]
    },
    {
      "cell_type": "code",
      "metadata": {
        "pycharm": {
          "is_executing": false,
          "name": "#%% code\n"
        },
        "id": "StVXIxaU3kfj",
        "colab": {
          "base_uri": "https://localhost:8080/"
        },
        "outputId": "6b56c680-b8b4-46bd-823f-166271425cdc"
      },
      "source": [
        "# Tokens comes from a process that splits the input into sub-entities with interesting linguistic properties. \n",
        "tokens = tokenizer.tokenize(\"This is an input example\")\n",
        "print(\"Tokens                       : {}\".format(tokens))\n",
        "\n",
        "# This is not sufficient for the model, as it requires integers as input, \n",
        "# not a problem, let's convert tokens to ids.\n",
        "tokens_ids = tokenizer.convert_tokens_to_ids(tokens)\n",
        "print(\"Tokens id                    : {}\".format(tokens_ids))\n",
        "\n",
        "# Add the required special tokens\n",
        "tokens_ids = tokenizer.build_inputs_with_special_tokens(tokens_ids)\n",
        "print(\"Tokens id with special tokens: {}\".format(tokens_ids))\n",
        "\n",
        "# We need to convert to a Deep Learning framework specific format, let's use TensorFlow \n",
        "tokens_tf = tensorflow.convert_to_tensor([tokens_ids])\n",
        "print(\"Tokens TensorFlow            : {}\".format(tokens_tf))"
      ],
      "execution_count": 5,
      "outputs": [
        {
          "output_type": "stream",
          "text": [
            "Tokens                       : ['This', 'is', 'an', 'input', 'example']\n",
            "Tokens id                    : [1188, 1110, 1126, 7758, 1859]\n",
            "Tokens id with special tokens: [101, 1188, 1110, 1126, 7758, 1859, 102]\n",
            "Tokens TensorFlow            : [[ 101 1188 1110 1126 7758 1859  102]]\n"
          ],
          "name": "stdout"
        }
      ]
    },
    {
      "cell_type": "markdown",
      "metadata": {
        "id": "u0fygb7S_7iH"
      },
      "source": [
        "\n",
        "```python\n",
        "tokens = tokenizer.tokenize(\"This is an input example\")\n",
        "tokens_ids = tokenizer.convert_tokens_to_ids(tokens)\n",
        "tokens_ids = tokenizer.build_inputs_with_special_tokens(tokens_ids)\n",
        "tokens_tf = tf.convert_to_tensor([tokens_ids])\n",
        "```\n",
        "__TensorFlow__:This code can be factored into one-line as follow\n",
        "\n",
        "```python\n",
        "tokens_tf = tokenizer.encode_plus(\"This is an input example\", return_tensors=\"tf\")\n",
        "```"
      ]
    },
    {
      "cell_type": "code",
      "metadata": {
        "id": "FujObVkE_F3v",
        "colab": {
          "base_uri": "https://localhost:8080/"
        },
        "outputId": "1247ee3c-3b03-4bdb-a344-848c8d05ab1f"
      },
      "source": [
        "tokens_tf2 = tokenizer.encode_plus(\"This is an input example\", return_tensors=\"tf\")\n",
        "\n",
        "for key, value in tokens_tf2.items():\n",
        "    print(\"{}:\\n\\t{}\".format(key, value))"
      ],
      "execution_count": 6,
      "outputs": [
        {
          "output_type": "stream",
          "text": [
            "input_ids:\n",
            "\t[[ 101 1188 1110 1126 7758 1859  102]]\n",
            "token_type_ids:\n",
            "\t[[0 0 0 0 0 0 0]]\n",
            "attention_mask:\n",
            "\t[[1 1 1 1 1 1 1]]\n"
          ],
          "name": "stdout"
        }
      ]
    },
    {
      "cell_type": "markdown",
      "metadata": {
        "id": "5wOJLcEA3kfu"
      },
      "source": [
        "As you can see above, the methode `encode_plus` provides a convenient way to generate all the required parameters\n",
        "that will go through the model. \n",
        "\n",
        "In addition to input_ids it also generates token_type_ids and attention_mask tensors\n",
        "\n",
        "#### __token_type_ids__: \n",
        "\n",
        "This tensor will map every tokens to their corresponding segment."
      ]
    },
    {
      "cell_type": "code",
      "metadata": {
        "pycharm": {
          "is_executing": false
        },
        "id": "ftkLiLnj3kfv",
        "colab": {
          "base_uri": "https://localhost:8080/"
        },
        "outputId": "d40d9d91-751c-48ae-e2a2-c2b8119b14ef"
      },
      "source": [
        "# Single segment input\n",
        "single_seg_input = tokenizer.encode_plus(\"This is a seqment A\")\n",
        "\n",
        "print(\"Single segment token (str): {}\".format(tokenizer.convert_ids_to_tokens(single_seg_input['input_ids'])))\n",
        "print(\"Single segment token (int): {}\".format(single_seg_input['input_ids']))\n",
        "print(\"Single segment type       : {}\".format(single_seg_input['token_type_ids']))\n",
        "print()\n",
        "\n",
        "# Multiple segment input\n",
        "multi_seg_input = tokenizer.encode_plus(\"This is segment A\", \"This is segment B\")\n",
        "\n",
        "# Segments are concatened in the input to the model, with \n",
        "print(\"Multi segment token (str): {}\".format(tokenizer.convert_ids_to_tokens(multi_seg_input['input_ids'])))\n",
        "print(\"Multi segment token (int): {}\".format(multi_seg_input['input_ids']))\n",
        "print(\"Multi segment type       : {}\".format(multi_seg_input['token_type_ids']))"
      ],
      "execution_count": 7,
      "outputs": [
        {
          "output_type": "stream",
          "text": [
            "Single segment token (str): ['[CLS]', 'This', 'is', 'a', 'se', '##q', '##ment', 'A', '[SEP]']\n",
            "Single segment token (int): [101, 1188, 1110, 170, 14516, 4426, 1880, 138, 102]\n",
            "Single segment type       : [0, 0, 0, 0, 0, 0, 0, 0, 0]\n",
            "\n",
            "Multi segment token (str): ['[CLS]', 'This', 'is', 'segment', 'A', '[SEP]', 'This', 'is', 'segment', 'B', '[SEP]']\n",
            "Multi segment token (int): [101, 1188, 1110, 6441, 138, 102, 1188, 1110, 6441, 139, 102]\n",
            "Multi segment type       : [0, 0, 0, 0, 0, 0, 1, 1, 1, 1, 1]\n"
          ],
          "name": "stdout"
        }
      ]
    },
    {
      "cell_type": "markdown",
      "metadata": {
        "id": "eeudjZalcET-"
      },
      "source": [
        "####__attention_mask__\n",
        "\n",
        "This tensor is used to \"mask\" padded values in a batch of sequence with different lengths."
      ]
    },
    {
      "cell_type": "code",
      "metadata": {
        "pycharm": {
          "is_executing": false
        },
        "id": "-bJZnpkd3kf1",
        "colab": {
          "base_uri": "https://localhost:8080/"
        },
        "outputId": "7b83334d-ba0b-45b4-b8e5-672823be23e0"
      },
      "source": [
        "# Padding highlight\n",
        "tokens = tokenizer.batch_encode_plus([\"This is a sample\", \n",
        "                                      \"This is another longer sample text\"], \n",
        "                                     padding=True)  # First sentence will have some PADDED tokens to match second sequence length\n",
        "\n",
        "for i in range(2):\n",
        "    print(\"Tokens (int)      : {}\".format(tokens['input_ids'][i]))\n",
        "    print(\"Tokens (str)      : {}\".format([tokenizer.convert_ids_to_tokens(s) for s in tokens['input_ids'][i]]))\n",
        "    print(\"Tokens (attn_mask): {}\".format(tokens['attention_mask'][i]))\n",
        "    print()"
      ],
      "execution_count": 9,
      "outputs": [
        {
          "output_type": "stream",
          "text": [
            "Tokens (int)      : [101, 1188, 1110, 170, 6876, 102, 0, 0]\n",
            "Tokens (str)      : ['[CLS]', 'This', 'is', 'a', 'sample', '[SEP]', '[PAD]', '[PAD]']\n",
            "Tokens (attn_mask): [1, 1, 1, 1, 1, 1, 0, 0]\n",
            "\n",
            "Tokens (int)      : [101, 1188, 1110, 1330, 2039, 6876, 3087, 102]\n",
            "Tokens (str)      : ['[CLS]', 'This', 'is', 'another', 'longer', 'sample', 'text', '[SEP]']\n",
            "Tokens (attn_mask): [1, 1, 1, 1, 1, 1, 1, 1]\n",
            "\n"
          ],
          "name": "stdout"
        }
      ]
    },
    {
      "cell_type": "code",
      "metadata": {
        "colab": {
          "base_uri": "https://localhost:8080/"
        },
        "id": "tgbQ6WSk5dV_",
        "outputId": "03bdbf70-c190-4785-9c47-8cfa15cc48db"
      },
      "source": [
        "outputs = model(tokens_tf2)\n",
        "\n",
        "print(\"last_hidden_state: \\n\\t {}\".format(outputs.last_hidden_state.shape))\n",
        "print(\"pooler_output    : \\n\\t {}\".format(outputs.pooler_output.shape))"
      ],
      "execution_count": 10,
      "outputs": [
        {
          "output_type": "stream",
          "text": [
            "last_hidden_state: \n",
            "\t (1, 7, 768)\n",
            "pooler_output    : \n",
            "\t (1, 768)\n"
          ],
          "name": "stdout"
        }
      ]
    },
    {
      "cell_type": "markdown",
      "metadata": {
        "id": "XYwYwM9M8JCA"
      },
      "source": [
        "As you can see, BERT outputs two tensors:\n",
        " - One with the generated representation for every token in the input `(1, NB_TOKENS, REPRESENTATION_SIZE)`\n",
        " - One with an aggregated representation for the whole input `(1, REPRESENTATION_SIZE)`\n",
        " \n",
        "The first, token-based, representation can be leveraged if your task requires to keep the sequence representation and you\n",
        "want to operate at a token-level. This is particularly useful for Named Entity Recognition and Question-Answering.\n",
        "\n",
        "The second, aggregated, representation is especially useful if you need to extract the overall context of the sequence and don't\n",
        "require a fine-grained token-level. This is the case for Sentiment-Analysis of the sequence or Information Retrieval."
      ]
    }
  ]
}
